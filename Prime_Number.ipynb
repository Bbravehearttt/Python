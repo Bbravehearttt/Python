{
  "nbformat": 4,
  "nbformat_minor": 0,
  "metadata": {
    "colab": {
      "name": "Prime_Number.ipynb",
      "provenance": [],
      "authorship_tag": "ABX9TyOVGgVlNjkE/bOo+VdQvuej"
    },
    "kernelspec": {
      "name": "python3",
      "display_name": "Python 3"
    },
    "language_info": {
      "name": "python"
    }
  },
  "cells": [
    {
      "cell_type": "markdown",
      "source": [
        "## Is it a Prime Number?\n"
      ],
      "metadata": {
        "id": "RzhU59Ju7evB"
      }
    },
    {
      "cell_type": "code",
      "source": [
        "n = int(input(\"Enter a positive int number to check if it is a Prime Number: \"))\n",
        "counter = 0\n",
        "\n",
        "for i in range(1, n+1) :\n",
        "    if n % i == 0 :\n",
        "        counter += 1\n",
        "        \n",
        "if (n == 0) or (n == 1) or (counter >= 3) :\n",
        "    print(n, \" is not a Prime Number.\")\n",
        "    \n",
        "else :\n",
        "    print(n, \" is a Prime Number.\")"
      ],
      "metadata": {
        "colab": {
          "base_uri": "https://localhost:8080/"
        },
        "id": "cQeXV6xV7kNE",
        "outputId": "d6597b6d-3d13-4abc-dca0-46a5088f3075"
      },
      "execution_count": 4,
      "outputs": [
        {
          "output_type": "stream",
          "name": "stdout",
          "text": [
            "Enter a positive int number to check if it is a Prime Number.47\n",
            "47  is a Prime Number.\n"
          ]
        }
      ]
    }
  ]
}

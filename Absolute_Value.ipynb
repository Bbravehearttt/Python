{
  "nbformat": 4,
  "nbformat_minor": 0,
  "metadata": {
    "colab": {
      "name": "Absolute_Value.ipynb",
      "provenance": [],
      "authorship_tag": "ABX9TyMJB4Z9L0wXfh7riVyLmpUK"
    },
    "kernelspec": {
      "name": "python3",
      "display_name": "Python 3"
    },
    "language_info": {
      "name": "python"
    }
  },
  "cells": [
    {
      "cell_type": "code",
      "execution_count": 1,
      "metadata": {
        "id": "_fOxY-6XwyZV"
      },
      "outputs": [],
      "source": [
        "def absolute_value(num) :\n",
        "    \"\"\"This function returns the absolute\n",
        "value of the given number.\"\"\"\n",
        "    \n",
        "    if num >= 0 :\n",
        "        return num\n",
        "    \n",
        "    else :\n",
        "        return -num"
      ]
    }
  ]
}
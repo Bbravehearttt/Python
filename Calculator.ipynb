{
  "nbformat": 4,
  "nbformat_minor": 0,
  "metadata": {
    "colab": {
      "name": "Calculator.ipynb",
      "provenance": [],
      "authorship_tag": "ABX9TyNf7dagGves9B3xKsWNzk/p",
      "include_colab_link": true
    },
    "kernelspec": {
      "name": "python3",
      "display_name": "Python 3"
    },
    "language_info": {
      "name": "python"
    }
  },
  "cells": [
    {
      "cell_type": "markdown",
      "metadata": {
        "id": "view-in-github",
        "colab_type": "text"
      },
      "source": [
        "<a href=\"https://colab.research.google.com/github/Bbravehearttt/Python/blob/master/Calculator.ipynb\" target=\"_parent\"><img src=\"https://colab.research.google.com/assets/colab-badge.svg\" alt=\"Open In Colab\"/></a>"
      ]
    },
    {
      "cell_type": "code",
      "execution_count": null,
      "metadata": {
        "id": "_fOxY-6XwyZV"
      },
      "outputs": [],
      "source": [
        "def calculator(x, y, opr) :\n",
        "    if opr == \"+\" :\n",
        "        print(x + y)\n",
        "        \n",
        "    elif opr == \"-\" :\n",
        "        print(x - y)\n",
        "        \n",
        "    elif opr == \"*\" :\n",
        "        print(x * y)\n",
        "        \n",
        "    elif opr == \"/\" :\n",
        "        print(x / y)\n",
        "        \n",
        "    else :\n",
        "        print(\"Enter a valid operator.\")\n",
        "calculator(10, 2, \"/\")"
      ]
    }
  ]
}
{
  "nbformat": 4,
  "nbformat_minor": 0,
  "metadata": {
    "colab": {
      "name": "Armstrong_Numbers.ipynb",
      "provenance": [],
      "authorship_tag": "ABX9TyNGMwu+wBHcjOJdbESX+k4o"
    },
    "kernelspec": {
      "name": "python3",
      "display_name": "Python 3"
    },
    "language_info": {
      "name": "python"
    }
  },
  "cells": [
    {
      "cell_type": "markdown",
      "source": [
        "## Armstrong Numbers\n"
      ],
      "metadata": {
        "id": "NAjB29Q665L9"
      }
    },
    {
      "cell_type": "code",
      "execution_count": null,
      "metadata": {
        "colab": {
          "base_uri": "https://localhost:8080/"
        },
        "id": "6wRS8_NI6sbe",
        "outputId": "78ab7edb-1925-403d-ddc4-c4387bf5c172"
      },
      "outputs": [
        {
          "output_type": "stream",
          "name": "stdout",
          "text": [
            "Enter a positive integer number :407\n",
            "407  is an Armstrong Number.\n"
          ]
        }
      ],
      "source": [
        "while True :\n",
        "    \n",
        "    number = input(\"Enter a positive integer number :\")\n",
        "    digits = len(number)\n",
        "    summ = 0\n",
        "    \n",
        "    if not number.isdigit() :\n",
        "        \n",
        "        print(number, \" is invalid entry. Please enter valid input.\")\n",
        "        \n",
        "    elif int(number) >= 0 :\n",
        "        \n",
        "        for i in range(digits) :\n",
        "            \n",
        "            summ = summ + int(number[i]) ** digits\n",
        "            \n",
        "        if summ == int(number) :\n",
        "            print(number, \" is an Armstrong Number.\")\n",
        "            break\n",
        "        else :\n",
        "            print(number, \" is not an Armstrong Number.\")\n",
        "            break"
      ]
    }
  ]
}
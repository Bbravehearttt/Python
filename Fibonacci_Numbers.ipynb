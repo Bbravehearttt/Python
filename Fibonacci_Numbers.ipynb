{
  "nbformat": 4,
  "nbformat_minor": 0,
  "metadata": {
    "colab": {
      "name": "Fibonacci Numbers.ipynb",
      "provenance": [],
      "authorship_tag": "ABX9TyOEdHLUY5uD2SXX46DIxxVH",
      "include_colab_link": true
    },
    "kernelspec": {
      "name": "python3",
      "display_name": "Python 3"
    },
    "language_info": {
      "name": "python"
    }
  },
  "cells": [
    {
      "cell_type": "markdown",
      "metadata": {
        "id": "view-in-github",
        "colab_type": "text"
      },
      "source": [
        "<a href=\"https://colab.research.google.com/github/Bbravehearttt/Python/blob/master/Fibonacci_Numbers.ipynb\" target=\"_parent\"><img src=\"https://colab.research.google.com/assets/colab-badge.svg\" alt=\"Open In Colab\"/></a>"
      ]
    },
    {
      "cell_type": "code",
      "execution_count": null,
      "metadata": {
        "id": "_fOxY-6XwyZV"
      },
      "outputs": [],
      "source": [
        "fibo = [1, 1]\n",
        "for i in range(8) :\n",
        "    \n",
        "    fibo.append(fibo[i] + fibo[i+1])\n",
        "fibo\n"
      ]
    }
  ]
}